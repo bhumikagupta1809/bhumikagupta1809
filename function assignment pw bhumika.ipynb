{
 "cells": [
  {
   "cell_type": "markdown",
   "metadata": {},
   "source": [
    " Q1. What is the difference between a function and a method in Python?\n",
    "A1.  Function\n",
    "A function is a block of code that performs a specific task and can be called independently.\n",
    "Functions are defined using the def keyword, and they can be called from anywhere in your code.\n",
    "2. Method\n",
    "A method is a function that is associated with an object or class. In other words, methods are functions that belong to a specific object and can access and modify its attributes.\n",
    "Methods are called on objects or instances of a class. They are defined within a class and operate on the data that belongs to that class."
   ]
  },
  {
   "cell_type": "markdown",
   "metadata": {},
   "source": [
    "Fuctions example:"
   ]
  },
  {
   "cell_type": "code",
   "execution_count": 1,
   "metadata": {},
   "outputs": [
    {
     "name": "stdout",
     "output_type": "stream",
     "text": [
      "8\n"
     ]
    }
   ],
   "source": [
    "def add(a, b):\n",
    "    return a + b\n",
    "\n",
    "result = add(3, 5) \n",
    "print(result)  "
   ]
  },
  {
   "cell_type": "markdown",
   "metadata": {},
   "source": [
    "Method example:"
   ]
  },
  {
   "cell_type": "code",
   "execution_count": 2,
   "metadata": {},
   "outputs": [
    {
     "name": "stdout",
     "output_type": "stream",
     "text": [
      "5\n"
     ]
    }
   ],
   "source": [
    "class Calculator:\n",
    "    def __init__(self):\n",
    "        self.value = 0\n",
    "    \n",
    "    def add(self, x):\n",
    "        self.value += x\n",
    "\n",
    "calc = Calculator()\n",
    "calc.add(5)  \n",
    "print(calc.value) \n"
   ]
  },
  {
   "cell_type": "markdown",
   "metadata": {},
   "source": [
    "Q2. Explain the concept of function arguments and parameters in Python.\n",
    "A2. 1. Parameters\n",
    "Parameters are the names used in the function definition. They act as placeholders for the values that will be passed to the function when it is called.\n",
    "When you define a function, you specify its parameters to tell Python what kind of information the function expects.\n",
    "2. Arguments\n",
    "Arguments are the actual values or data passed to a function when you call it. These are the values assigned to the parameters.\n",
    "When you call a function, you provide the arguments, which get assigned to the corresponding parameters in the function."
   ]
  },
  {
   "cell_type": "markdown",
   "metadata": {},
   "source": [
    "Q3.  What are the different ways to define and call a function in Python?\n",
    "A3. A simple function is defined using the def keyword, followed by the function name and parentheses that may include parameters. It is called by referencing the function name and passing the necessary arguments."
   ]
  },
  {
   "cell_type": "code",
   "execution_count": 3,
   "metadata": {},
   "outputs": [
    {
     "name": "stdout",
     "output_type": "stream",
     "text": [
      "Hello, Alice!\n"
     ]
    }
   ],
   "source": [
    "\n",
    "def greet(name):\n",
    "    print(f\"Hello, {name}!\")\n",
    "\n",
    "greet(\"Alice\") \n"
   ]
  },
  {
   "cell_type": "markdown",
   "metadata": {},
   "source": [
    " define a function that takes multiple parameters and call it by passing the required arguments."
   ]
  },
  {
   "cell_type": "code",
   "execution_count": null,
   "metadata": {},
   "outputs": [
    {
     "name": "stdout",
     "output_type": "stream",
     "text": [
      "8\n"
     ]
    }
   ],
   "source": [
    "\n",
    "def add(a, b):\n",
    "    return a + b\n",
    "\n",
    "result = add(3, 5)\n",
    "print(result)\n"
   ]
  },
  {
   "cell_type": "markdown",
   "metadata": {},
   "source": [
    "A function can have default values for parameters. If the caller does not provide a value for that parameter, the default value is used"
   ]
  },
  {
   "cell_type": "code",
   "execution_count": 5,
   "metadata": {},
   "outputs": [
    {
     "name": "stdout",
     "output_type": "stream",
     "text": [
      "Hello, Alice, you are 30 years old.\n"
     ]
    }
   ],
   "source": [
    "\n",
    "def greet(name, age=30):\n",
    "    print(f\"Hello, {name}, you are {age} years old.\")\n",
    "\n",
    "greet(\"Alice\")\n",
    "\n"
   ]
  },
  {
   "cell_type": "markdown",
   "metadata": {},
   "source": [
    "Q4. What is the purpose of the `return` statement in a Python function?\n",
    "A4. return statement give the result in the same way as commond is provided like in form of string , list etc\n",
    "It allow the user to add further element while providing output\n"
   ]
  },
  {
   "cell_type": "code",
   "execution_count": 19,
   "metadata": {},
   "outputs": [
    {
     "data": {
      "text/plain": [
       "'pwskillclasses'"
      ]
     },
     "execution_count": 19,
     "metadata": {},
     "output_type": "execute_result"
    }
   ],
   "source": [
    "def name():\n",
    "    return \"pwskill\"\n",
    "\n",
    "name() + \"classes\"\n"
   ]
  },
  {
   "cell_type": "markdown",
   "metadata": {},
   "source": [
    "Q5.  What are iterators in Python and how do they differ from iterables?\n",
    "A5. 1. Iterable\n",
    "An iterable is any Python object capable of returning its members one at a time, allowing it to be looped over in a for-loop or be used in other places where an iteration is required (like list(), sum(), etc.).\n",
    "2. Iterators\n",
    "An interators is objects representing a stream of data and return the data one"
   ]
  },
  {
   "cell_type": "markdown",
   "metadata": {},
   "source": [
    "Q6. Explain the concept of generators in Python and how they are defined\n",
    "A6. Generators in Python are a type of iterable that allows you to produce values one at a time, as needed, rather than all at once. They are a memory-efficient way to create iterators for large data streams or sequences.\n",
    "\n",
    "Generators are defined using:\n",
    "\n",
    "Generator functions: Functions that use the yield keyword instead of return.\n",
    "Generator expressions: Similar to list comprehensions but with parentheses instead of square brackets.\n"
   ]
  },
  {
   "cell_type": "markdown",
   "metadata": {},
   "source": [
    "Q7. What are the advantages of using generators over regular functions?\n",
    "A7. 1. Memory Efficiency\n",
    "Generators produce values lazily, meaning they generate only one value at a time instead of computing and storing the entire sequence in memory.\n",
    "2. Lazy Evaluation\n",
    "Generators compute values on demand rather than precomputing all values at once. This not only saves memory but also improves performance in scenarios where not all results are required.\n",
    "3. Infinite Sequences\n",
    "Generators can produce infinite sequences without running out of memory because they don’t store the entire sequence in memory. \n",
    "4.Simplified Code with State Retention\n",
    "Generators automatically retain their state between calls, eliminating the need for complex state management using global variables or class instances.\n"
   ]
  },
  {
   "cell_type": "markdown",
   "metadata": {},
   "source": [
    "Q8. What is a lambda function in Python and when is it typically used?\n",
    "A8.  lambda function in Python is a small, anonymous function defined using the lambda keyword. Unlike regular functions created with def, a lambda function can only have a single expression and does not require a name.\n",
    "Syntax of a Lambda Function\n",
    "arguments: Inputs to the function, separated by commas.\n",
    "expression: A single expression that is evaluated and returned."
   ]
  },
  {
   "cell_type": "code",
   "execution_count": null,
   "metadata": {},
   "outputs": [
    {
     "name": "stdout",
     "output_type": "stream",
     "text": [
      "8\n"
     ]
    }
   ],
   "source": [
    "# Regular function\n",
    "def add(x, y):\n",
    "    return x + y\n",
    "\n",
    "# Equivalent lambda function\n",
    "add = lambda x, y: x + y\n",
    "\n",
    "# Usage\n",
    "print(add(3, 5))  # Output: 8"
   ]
  },
  {
   "cell_type": "code",
   "execution_count": 33,
   "metadata": {},
   "outputs": [
    {
     "name": "stdout",
     "output_type": "stream",
     "text": [
      "1\n",
      "2\n",
      "3\n",
      "4\n"
     ]
    }
   ],
   "source": [
    "a = 1,2,3,4\n",
    "for i in a:\n",
    "    print(i)"
   ]
  },
  {
   "cell_type": "code",
   "execution_count": 36,
   "metadata": {},
   "outputs": [
    {
     "data": {
      "text/plain": [
       "<tuple_iterator at 0x221ad52b7f0>"
      ]
     },
     "execution_count": 36,
     "metadata": {},
     "output_type": "execute_result"
    }
   ],
   "source": [
    "a = (1,2,2,4)\n",
    "iter(a)"
   ]
  },
  {
   "cell_type": "code",
   "execution_count": 46,
   "metadata": {},
   "outputs": [
    {
     "ename": "TypeError",
     "evalue": "'int' object is not an iterator",
     "output_type": "error",
     "traceback": [
      "\u001b[1;31m---------------------------------------------------------------------------\u001b[0m",
      "\u001b[1;31mTypeError\u001b[0m                                 Traceback (most recent call last)",
      "Cell \u001b[1;32mIn[46], line 1\u001b[0m\n\u001b[1;32m----> 1\u001b[0m \u001b[38;5;28;43mnext\u001b[39;49m\u001b[43m(\u001b[49m\u001b[38;5;241;43m1\u001b[39;49m\u001b[43m)\u001b[49m\n",
      "\u001b[1;31mTypeError\u001b[0m: 'int' object is not an iterator"
     ]
    }
   ],
   "source": [
    "next(1)"
   ]
  }
 ],
 "metadata": {
  "kernelspec": {
   "display_name": "Python 3",
   "language": "python",
   "name": "python3"
  },
  "language_info": {
   "codemirror_mode": {
    "name": "ipython",
    "version": 3
   },
   "file_extension": ".py",
   "mimetype": "text/x-python",
   "name": "python",
   "nbconvert_exporter": "python",
   "pygments_lexer": "ipython3",
   "version": "3.12.4"
  }
 },
 "nbformat": 4,
 "nbformat_minor": 2
}
